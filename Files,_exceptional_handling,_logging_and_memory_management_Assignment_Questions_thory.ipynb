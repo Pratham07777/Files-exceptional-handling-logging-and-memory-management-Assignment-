{
  "nbformat": 4,
  "nbformat_minor": 0,
  "metadata": {
    "colab": {
      "provenance": []
    },
    "kernelspec": {
      "name": "python3",
      "display_name": "Python 3"
    },
    "language_info": {
      "name": "python"
    }
  },
  "cells": [
    {
      "cell_type": "markdown",
      "source": [
        "Files, exceptional handling,\n",
        "logging and memory\n",
        "management\n",
        "\n",
        "Assignment answers"
      ],
      "metadata": {
        "id": "pfiqy1oit0sV"
      }
    },
    {
      "cell_type": "markdown",
      "source": [
        "# A. THEORY ANSWERS"
      ],
      "metadata": {
        "id": "X6H1X0nuyYVW"
      }
    },
    {
      "cell_type": "markdown",
      "source": [
        "1. What is the difference between interpreted and compiled languages?\n",
        " - Interpreted languages run the code line by line, while compiled languages translate the entire code into machine language before execution. Interpreted languages are more flexible, while compiled ones offer faster performance.\n",
        "\n",
        "2. What is exception handling in Python?\n",
        "  - Exception handling in Python allows the program to catch and respond to errors during execution using blocks like try, except, else, and finally.\n",
        "\n",
        "3. What is the purpose of the finally block in exception handling?\n",
        " - The finally block is used to define code that should always run, whether or not an exception was raised, usually for cleanup tasks like closing files.\n",
        "\n",
        "4. What is logging in Python?\n",
        " - Logging is a way to record messages about the program’s execution. It helps in tracking errors, debugging, and monitoring the flow of a program.\n",
        "\n",
        "5. What is the significance of the del method in Python?\n",
        "  - The del method is a destructor that gets called when an object is about to be deleted. It is used to release resources like memory or files.\n",
        "\n",
        "6. What is the difference between import and from ... import in Python?\n",
        "  - import brings in the entire module, requiring access via the module name. from ... import brings specific parts directly into the namespace for simpler access.\n",
        "\n",
        "7. How can you handle multiple exceptions in Python?\n",
        " - Multiple exceptions can be handled by using multiple except blocks or by grouping exceptions in a tuple in a single except block.\n",
        "\n",
        "8. What is the purpose of the with statement when handling files in Python?\n",
        "  - The with statement ensures that a file is properly opened and closed. It handles resource management automatically, even if an error occurs.\n",
        "\n",
        "9. What is the difference between multithreading and multiprocessing?\n",
        "  - Multithreading runs tasks within the same process and memory space, while multiprocessing creates separate processes with independent memory, ideal for CPU-intensive tasks.\n",
        "\n",
        "10. What are the advantages of using logging in a program?\n",
        "  - Logging helps in debugging, monitoring, and understanding a program’s behavior. It records messages for developers without interrupting program flow.\n",
        "\n",
        "11. What is memory management in Python?\n",
        " - Memory management in Python involves allocating and releasing memory to objects automatically using techniques like reference counting and garbage collection.\n",
        "\n",
        "12. What are the basic steps involved in exception handling in Python?\n",
        "  - Wrap risky code in a try block, handle errors with except, optionally use else if no errors occur, and finally for code that should always run.\n",
        "\n",
        "13. Why is memory management important in Python?\n",
        "  - Good memory management ensures efficient use of system resources, prevents memory leaks, and keeps programs stable and fast.\n",
        "\n",
        "14. What is the role of try and except in exception handling?\n",
        " - The try block contains code that may cause an error. If an error occurs, the except block runs to handle it without crashing the program.\n",
        "\n",
        "15. How does Python's garbage collection system work?\n",
        " - Python automatically deletes objects that are no longer needed using reference counting and cycle detection to reclaim memory.\n",
        "\n",
        "16. What is the purpose of the else block in exception handling?\n",
        " - The else block runs code only if the try block did not raise an exception. It is useful for logic that should only run if no error occurred.\n",
        "\n",
        "17. What are the common logging levels in Python?\n",
        " - The main logging levels are DEBUG, INFO, WARNING, ERROR, and CRITICAL. They indicate the severity of messages logged by the program.\n",
        "\n",
        "18. What is the difference between os.fork() and multiprocessing in Python?\n",
        " - os.fork() is a low-level Unix function for creating processes. multiprocessing is a Python module that offers a high-level API and works cross-platform.\n",
        "\n",
        "19. What is the importance of closing a file in Python?\n",
        " - Closing a file releases system resources and ensures all data is written properly. Not closing files can lead to memory leaks or corrupted files.\n",
        "\n",
        "20. What is the difference between file.read() and file.readline() in Python?\n",
        "  - file.read() reads the entire file at once, while file.readline() reads one line at a time, making it more memory-efficient for large files.\n",
        "\n",
        "21. What is the logging module in Python used for?\n",
        "  - The logging module is used to record and manage log messages for tracking events, debugging, and maintaining a record of application behavior.\n",
        "\n",
        "22. What is the os module in Python used for in file handling?\n",
        " - The os module allows interaction with the operating system, such as file creation, deletion, renaming, and path management.\n",
        "\n",
        "23. What are the challenges associated with memory management in Python?\n",
        "  - Challenges include handling circular references, controlling memory leaks, and efficiently managing memory for large datasets or long-running programs.\n",
        "\n",
        "24. How do you raise an exception manually in Python?\n",
        "  - An exception can be raised manually using the raise keyword followed by an exception class to signal that an error condition has occurred.\n",
        "\n",
        "25. Why is it important to use multithreading in certain applications?\n",
        "  - Multithreading allows concurrent execution of tasks, improving efficiency in I/O-bound applications and keeping programs responsive."
      ],
      "metadata": {
        "id": "dep1yh8fu74y"
      }
    },
    {
      "cell_type": "markdown",
      "source": [
        "# B. PRACTICAL ANSWERS"
      ],
      "metadata": {
        "id": "GPn3k3RqySA9"
      }
    },
    {
      "cell_type": "code",
      "source": [
        "# Q: How can you open a file for writing in Python and write a string to it?\n",
        "with open(\"output.txt\", \"w\") as file:\n",
        "    file.write(\"Hello, world!\")\n",
        "\n",
        "    file.close()\n"
      ],
      "metadata": {
        "id": "PAlAcaKW05da"
      },
      "execution_count": 4,
      "outputs": []
    },
    {
      "cell_type": "code",
      "source": [
        "# Q: Write a Python program to read the contents of a file and print each line\n",
        "with open(\"output.txt\", \"r\") as file:\n",
        "    for line in file:\n",
        "        print(line.strip())\n"
      ],
      "metadata": {
        "id": "Pdo4Aqar05a6"
      },
      "execution_count": null,
      "outputs": []
    },
    {
      "cell_type": "code",
      "source": [
        "# Q: How would you handle a case where the file doesn't exist while trying to open it for reading?\n",
        "try:\n",
        "    with open(\"nonexistent.txt\", \"r\") as file:\n",
        "        print(file.read())\n",
        "except FileNotFoundError:\n",
        "    print(\"File not found.\")\n"
      ],
      "metadata": {
        "id": "mk5gOE2h05YS"
      },
      "execution_count": null,
      "outputs": []
    },
    {
      "cell_type": "code",
      "source": [
        "# Q: Write a Python script that reads from one file and writes its content to another file\n",
        "with open(\"source.txt\", \"r\") as src, open(\"destination.txt\", \"w\") as dst:\n",
        "    for line in src:\n",
        "        dst.write(line)\n"
      ],
      "metadata": {
        "id": "4TmEP7Ml05Vy"
      },
      "execution_count": null,
      "outputs": []
    },
    {
      "cell_type": "code",
      "source": [
        "# Q: How would you catch and handle division by zero error in Python?\n",
        "try:\n",
        "    result = 10 / 0\n",
        "except ZeroDivisionError:\n",
        "    print(\"Cannot divide by zero.\")\n"
      ],
      "metadata": {
        "id": "rdbXrtC105TL"
      },
      "execution_count": null,
      "outputs": []
    },
    {
      "cell_type": "code",
      "source": [
        "# Q: Write a Python program that logs an error message to a log file when a division by zero exception occurs\n",
        "import logging\n",
        "logging.basicConfig(filename=\"error.log\", level=logging.ERROR)\n",
        "try:\n",
        "    10 / 0\n",
        "except ZeroDivisionError as e:\n",
        "    logging.error(f\"Error occurred: {e}\")\n"
      ],
      "metadata": {
        "id": "61PTyLpW05QL"
      },
      "execution_count": null,
      "outputs": []
    },
    {
      "cell_type": "code",
      "source": [
        "# Q: How do you log information at different levels (INFO, ERROR, WARNING) in Python using the logging module?\n",
        "import logging\n",
        "logging.basicConfig(level=logging.DEBUG)\n",
        "logging.info(\"This is an info message.\")\n",
        "logging.warning(\"This is a warning.\")\n",
        "logging.error(\"This is an error.\")\n"
      ],
      "metadata": {
        "id": "jKXhTxq505NT"
      },
      "execution_count": null,
      "outputs": []
    },
    {
      "cell_type": "code",
      "source": [
        "# Q: Write a program to handle a file opening error using exception handling\n",
        "try:\n",
        "    with open(\"missing.txt\", \"r\") as file:\n",
        "        print(file.read())\n",
        "except IOError as e:\n",
        "    print(f\"Error opening file: {e}\")\n"
      ],
      "metadata": {
        "id": "yvjcfUhE1DDq"
      },
      "execution_count": null,
      "outputs": []
    },
    {
      "cell_type": "code",
      "source": [
        "# Q: How can you read a file line by line and store its content in a list in Python?\n",
        "with open(\"output.txt\", \"r\") as file:\n",
        "    lines = file.readlines()\n",
        "print(lines)\n"
      ],
      "metadata": {
        "id": "MHQ80pLb1DAx"
      },
      "execution_count": null,
      "outputs": []
    },
    {
      "cell_type": "code",
      "source": [
        "# Q: How can you append data to an existing file in Python?\n",
        "with open(\"output.txt\", \"a\") as file:\n",
        "    file.write(\"\\nAppended line\")\n"
      ],
      "metadata": {
        "id": "0vffd_131C-H"
      },
      "execution_count": null,
      "outputs": []
    },
    {
      "cell_type": "code",
      "source": [
        "# Q: Write a Python program that uses a try-except block to handle an error when attempting to access a dictionary key that doesn't exist\n",
        "data = {\"name\": \"Alice\"}\n",
        "try:\n",
        "    print(data[\"age\"])\n",
        "except KeyError:\n",
        "    print(\"Key does not exist.\")\n"
      ],
      "metadata": {
        "id": "MKHQ9HNK1C7X"
      },
      "execution_count": null,
      "outputs": []
    },
    {
      "cell_type": "code",
      "source": [
        "# Q: Write a Python program that uses a try-except block to handle an error when attempting to access a dictionary key that doesn't exist\n",
        "data = {\"name\": \"Alice\"}\n",
        "try:\n",
        "    print(data[\"age\"])\n",
        "except KeyError:\n",
        "    print(\"Key does not exist.\")\n"
      ],
      "metadata": {
        "id": "WIJb4WCd1C4v"
      },
      "execution_count": 3,
      "outputs": []
    },
    {
      "cell_type": "code",
      "source": [
        "# Q: Write a program that demonstrates using multiple except blocks to handle different types of exceptions\n",
        "try:\n",
        "    x = int(\"abc\")\n",
        "    y = 1 / 0\n",
        "except ValueError:\n",
        "    print(\"Invalid value.\")\n",
        "except ZeroDivisionError:\n",
        "    print(\"Division by zero.\")\n"
      ],
      "metadata": {
        "id": "W0WDLMcY1C2Y"
      },
      "execution_count": null,
      "outputs": []
    },
    {
      "cell_type": "code",
      "source": [
        "# Q: How would you check if a file exists before attempting to read it in Python?\n",
        "import os\n",
        "if os.path.exists(\"output.txt\"):\n",
        "    with open(\"output.txt\", \"r\") as file:\n",
        "        print(file.read())\n",
        "else:\n",
        "    print(\"File does not exist.\")\n"
      ],
      "metadata": {
        "id": "1rxsUdRU1Czh"
      },
      "execution_count": null,
      "outputs": []
    },
    {
      "cell_type": "code",
      "source": [
        "# Q: Write a program that uses the logging module to log both informational and error messages\n",
        "import logging\n",
        "logging.basicConfig(filename=\"app.log\", level=logging.INFO)\n",
        "logging.info(\"Program started.\")\n",
        "try:\n",
        "    10 / 0\n",
        "except ZeroDivisionError:\n",
        "    logging.error(\"Division by zero occurred.\")\n"
      ],
      "metadata": {
        "id": "BW8YhGcO1Cwo"
      },
      "execution_count": null,
      "outputs": []
    },
    {
      "cell_type": "code",
      "source": [
        "# Q: Write a Python program that prints the content of a file and handles the case when the file is empty\n",
        "with open(\"output.txt\", \"r\") as file:\n",
        "    content = file.read()\n",
        "    if content:\n",
        "        print(content)\n",
        "    else:\n",
        "        print(\"File is empty.\")\n"
      ],
      "metadata": {
        "id": "cwAS3ozT1N4o"
      },
      "execution_count": null,
      "outputs": []
    },
    {
      "cell_type": "code",
      "source": [
        "# Q: Demonstrate how to use memory profiling to check the memory usage of a small program\n",
        "from memory_profiler import profile\n",
        "\n",
        "@profile\n",
        "def create_list():\n",
        "    return [i for i in range(10000)]\n",
        "\n",
        "create_list()\n"
      ],
      "metadata": {
        "id": "usVdmvsh1N2A"
      },
      "execution_count": null,
      "outputs": []
    },
    {
      "cell_type": "code",
      "source": [
        "# Q: Write a Python program to create and write a list of numbers to a file, one number per line\n",
        "numbers = [1, 2, 3, 4, 5]\n",
        "with open(\"numbers.txt\", \"w\") as file:\n",
        "    for num in numbers:\n",
        "        file.write(f\"{num}\\n\")\n"
      ],
      "metadata": {
        "id": "Ibk4U5hC1Nzn"
      },
      "execution_count": null,
      "outputs": []
    },
    {
      "cell_type": "code",
      "source": [
        "# Q: How would you implement a basic logging setup that logs to a file with rotation after 1MB?\n",
        "import logging\n",
        "from logging.handlers import RotatingFileHandler\n",
        "\n",
        "handler = RotatingFileHandler(\"rotating.log\", maxBytes=1024*1024, backupCount=3)\n",
        "logging.basicConfig(handlers=[handler], level=logging.INFO)\n",
        "logging.info(\"This is a rotating log example.\")\n"
      ],
      "metadata": {
        "id": "muqp1YTZ1Nw9"
      },
      "execution_count": null,
      "outputs": []
    },
    {
      "cell_type": "code",
      "source": [
        "# Q: Write a program that handles both IndexError and KeyError using a try-except block\n",
        "data = {\"a\": 1}\n",
        "lst = [1, 2]\n",
        "try:\n",
        "    print(lst[5])\n",
        "    print(data[\"b\"])\n",
        "except IndexError:\n",
        "    print(\"List index out of range.\")\n",
        "except KeyError:\n",
        "    print(\"Key not found in dictionary.\")\n"
      ],
      "metadata": {
        "id": "MgZCUBv71NuN"
      },
      "execution_count": null,
      "outputs": []
    },
    {
      "cell_type": "code",
      "source": [
        "# Q: How would you open a file and read its contents using a context manager in Python?\n",
        "with open(\"output.txt\", \"r\") as file:\n",
        "    print(file.read())\n"
      ],
      "metadata": {
        "id": "1N5liYlM1dbv"
      },
      "execution_count": null,
      "outputs": []
    },
    {
      "cell_type": "code",
      "source": [
        "# Q: Write a Python program that reads a file and prints the number of occurrences of a specific word\n",
        "word_to_find = \"hello\"\n",
        "with open(\"output.txt\", \"r\") as file:\n",
        "    content = file.read().lower()\n",
        "    count = content.count(word_to_find.lower())\n",
        "    print(f\"'{word_to_find}' found {count} times.\")\n"
      ],
      "metadata": {
        "id": "mbsCkgNE1dXg"
      },
      "execution_count": null,
      "outputs": []
    },
    {
      "cell_type": "code",
      "source": [
        "# Q: How can you check if a file is empty before attempting to read its contents?\n",
        "import os\n",
        "if os.path.getsize(\"output.txt\") == 0:\n",
        "    print(\"File is empty.\")\n",
        "else:\n",
        "    with open(\"output.txt\", \"r\") as file:\n",
        "        print(file.read())\n"
      ],
      "metadata": {
        "id": "E76MJYZ41dU4"
      },
      "execution_count": null,
      "outputs": []
    },
    {
      "cell_type": "code",
      "source": [
        "# Q: Write a Python program that writes to a log file when an error occurs during file handling.\n",
        "import logging\n",
        "logging.basicConfig(filename=\"file_error.log\", level=logging.ERROR)\n",
        "try:\n",
        "    with open(\"unknown.txt\", \"r\") as file:\n",
        "        data = file.read()\n",
        "except Exception as e:\n",
        "    logging.error(f\"File error: {e}\")\n"
      ],
      "metadata": {
        "id": "AamynJU11lZC"
      },
      "execution_count": null,
      "outputs": []
    },
    {
      "cell_type": "code",
      "source": [],
      "metadata": {
        "id": "XRzEIqS71lWC"
      },
      "execution_count": null,
      "outputs": []
    },
    {
      "cell_type": "code",
      "source": [],
      "metadata": {
        "id": "h4YaXm6D1lTw"
      },
      "execution_count": null,
      "outputs": []
    },
    {
      "cell_type": "code",
      "source": [],
      "metadata": {
        "id": "i5v77Wuz1lRA"
      },
      "execution_count": null,
      "outputs": []
    },
    {
      "cell_type": "code",
      "source": [],
      "metadata": {
        "id": "lwYENxZC1lOA"
      },
      "execution_count": null,
      "outputs": []
    },
    {
      "cell_type": "code",
      "source": [],
      "metadata": {
        "id": "8UeVa71b1dSP"
      },
      "execution_count": null,
      "outputs": []
    }
  ]
}